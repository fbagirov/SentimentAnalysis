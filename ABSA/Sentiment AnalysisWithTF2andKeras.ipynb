{
 "cells": [
  {
   "cell_type": "markdown",
   "id": "f2e5dd75-b7b6-4255-bea9-eac5a146535e",
   "metadata": {},
   "source": [
    "Blog: https://curiousily.com/posts/sentiment-analysis-with-tensorflow-2-and-keras-using-python/\n",
    "\n",
    "Data:\n"
   ]
  },
  {
   "cell_type": "code",
   "execution_count": null,
   "id": "fe6dbe15-64d3-45dd-88df-ac35c9676a9b",
   "metadata": {},
   "outputs": [],
   "source": []
  },
  {
   "cell_type": "code",
   "execution_count": null,
   "id": "0677f68c-6dde-4129-91bd-d21c44d1ccaf",
   "metadata": {},
   "outputs": [],
   "source": []
  },
  {
   "cell_type": "code",
   "execution_count": null,
   "id": "82b4e956-e608-475e-bec8-ba0f46f60340",
   "metadata": {},
   "outputs": [],
   "source": []
  },
  {
   "cell_type": "code",
   "execution_count": null,
   "id": "9e74470b-e92d-4d40-978f-adcffcccf66b",
   "metadata": {},
   "outputs": [],
   "source": []
  },
  {
   "cell_type": "code",
   "execution_count": null,
   "id": "56787f8b-91bc-41a7-a20e-0a85cbbf6915",
   "metadata": {},
   "outputs": [],
   "source": []
  },
  {
   "cell_type": "code",
   "execution_count": null,
   "id": "fd4f39f8-f188-474f-9a62-158e6bd05678",
   "metadata": {},
   "outputs": [],
   "source": []
  },
  {
   "cell_type": "code",
   "execution_count": null,
   "id": "c8831d48-1ea7-4278-be08-b9db782709c2",
   "metadata": {},
   "outputs": [],
   "source": []
  },
  {
   "cell_type": "code",
   "execution_count": null,
   "id": "e15acef0-c2b0-4a40-9c94-08d68e54d75d",
   "metadata": {},
   "outputs": [],
   "source": []
  },
  {
   "cell_type": "code",
   "execution_count": null,
   "id": "448f4744-4eda-451e-a5aa-2db51bb10b1c",
   "metadata": {},
   "outputs": [],
   "source": []
  },
  {
   "cell_type": "code",
   "execution_count": null,
   "id": "55b8c03d-4fe6-4b20-a20b-94ce831b2f02",
   "metadata": {},
   "outputs": [],
   "source": []
  },
  {
   "cell_type": "code",
   "execution_count": null,
   "id": "5be240f8-3888-4391-a680-8d148ac67422",
   "metadata": {},
   "outputs": [],
   "source": []
  },
  {
   "cell_type": "code",
   "execution_count": null,
   "id": "7e62318f-6b37-4bf7-8364-a9b18b8ad08d",
   "metadata": {},
   "outputs": [],
   "source": []
  },
  {
   "cell_type": "code",
   "execution_count": null,
   "id": "c462edab-a8a5-4129-9318-945b247302c8",
   "metadata": {},
   "outputs": [],
   "source": []
  },
  {
   "cell_type": "code",
   "execution_count": null,
   "id": "1787a1f5-7d12-4e27-a478-dcd15b0955de",
   "metadata": {},
   "outputs": [],
   "source": []
  },
  {
   "cell_type": "code",
   "execution_count": null,
   "id": "19f33fae-e793-4149-81e6-4868d1822b91",
   "metadata": {},
   "outputs": [],
   "source": []
  },
  {
   "cell_type": "code",
   "execution_count": null,
   "id": "54d03bd2-0f9d-4cad-bce8-83b990fcccdc",
   "metadata": {},
   "outputs": [],
   "source": []
  },
  {
   "cell_type": "code",
   "execution_count": null,
   "id": "42f5e551-0bc2-4715-a92b-94b38d3fbdaf",
   "metadata": {},
   "outputs": [],
   "source": []
  },
  {
   "cell_type": "code",
   "execution_count": null,
   "id": "d042134d-0ea3-40c3-992f-93ec1f6db0b4",
   "metadata": {},
   "outputs": [],
   "source": []
  },
  {
   "cell_type": "code",
   "execution_count": null,
   "id": "6879afed-564c-4b60-b07b-a8a4a1fd938c",
   "metadata": {},
   "outputs": [],
   "source": []
  },
  {
   "cell_type": "code",
   "execution_count": null,
   "id": "d2a164b4-0508-4fe0-a74d-e16b26cda4bb",
   "metadata": {},
   "outputs": [],
   "source": []
  },
  {
   "cell_type": "code",
   "execution_count": null,
   "id": "e5ada260-5079-42ea-ac0f-f61322424ebb",
   "metadata": {},
   "outputs": [],
   "source": []
  }
 ],
 "metadata": {
  "kernelspec": {
   "display_name": "Python 3 (ipykernel)",
   "language": "python",
   "name": "python3"
  },
  "language_info": {
   "codemirror_mode": {
    "name": "ipython",
    "version": 3
   },
   "file_extension": ".py",
   "mimetype": "text/x-python",
   "name": "python",
   "nbconvert_exporter": "python",
   "pygments_lexer": "ipython3",
   "version": "3.11.5"
  }
 },
 "nbformat": 4,
 "nbformat_minor": 5
}
