{
 "cells": [
  {
   "cell_type": "markdown",
   "id": "0c363a7b-e8dc-4725-951e-00dea7020e57",
   "metadata": {},
   "source": [
    "Blog: https://medium.com/@swayampatil7918/getting-started-with-sentiment-analysis-a-step-by-step-guide-1a16085688a7\n",
    "\n",
    "Data: https://www.kaggle.com/datasets/yasserh/twitter-tweets-sentiment-dataset/data"
   ]
  },
  {
   "cell_type": "code",
   "execution_count": 1,
   "id": "d68dc70e-7677-484d-bca9-f7134ad886e8",
   "metadata": {},
   "outputs": [],
   "source": [
    "import pandas as pd\n",
    "import nltk\n",
    "from sklearn.feature_extraction.text import TfidfVectorizer\n",
    "from sklearn.model_selection import train_test_split\n",
    "from sklearn.svm import SVC\n",
    "from sklearn.metrics import classification_report, accuracy_score"
   ]
  },
  {
   "cell_type": "code",
   "execution_count": 3,
   "id": "e69fadd6-e3fb-4c33-b87f-ac34add247c6",
   "metadata": {},
   "outputs": [
    {
     "data": {
      "text/html": [
       "<div>\n",
       "<style scoped>\n",
       "    .dataframe tbody tr th:only-of-type {\n",
       "        vertical-align: middle;\n",
       "    }\n",
       "\n",
       "    .dataframe tbody tr th {\n",
       "        vertical-align: top;\n",
       "    }\n",
       "\n",
       "    .dataframe thead th {\n",
       "        text-align: right;\n",
       "    }\n",
       "</style>\n",
       "<table border=\"1\" class=\"dataframe\">\n",
       "  <thead>\n",
       "    <tr style=\"text-align: right;\">\n",
       "      <th></th>\n",
       "      <th>textID</th>\n",
       "      <th>text</th>\n",
       "      <th>selected_text</th>\n",
       "      <th>sentiment</th>\n",
       "    </tr>\n",
       "  </thead>\n",
       "  <tbody>\n",
       "    <tr>\n",
       "      <th>0</th>\n",
       "      <td>cb774db0d1</td>\n",
       "      <td>I`d have responded, if I were going</td>\n",
       "      <td>I`d have responded, if I were going</td>\n",
       "      <td>neutral</td>\n",
       "    </tr>\n",
       "    <tr>\n",
       "      <th>1</th>\n",
       "      <td>549e992a42</td>\n",
       "      <td>Sooo SAD I will miss you here in San Diego!!!</td>\n",
       "      <td>Sooo SAD</td>\n",
       "      <td>negative</td>\n",
       "    </tr>\n",
       "    <tr>\n",
       "      <th>2</th>\n",
       "      <td>088c60f138</td>\n",
       "      <td>my boss is bullying me...</td>\n",
       "      <td>bullying me</td>\n",
       "      <td>negative</td>\n",
       "    </tr>\n",
       "    <tr>\n",
       "      <th>3</th>\n",
       "      <td>9642c003ef</td>\n",
       "      <td>what interview! leave me alone</td>\n",
       "      <td>leave me alone</td>\n",
       "      <td>negative</td>\n",
       "    </tr>\n",
       "    <tr>\n",
       "      <th>4</th>\n",
       "      <td>358bd9e861</td>\n",
       "      <td>Sons of ****, why couldn`t they put them on t...</td>\n",
       "      <td>Sons of ****,</td>\n",
       "      <td>negative</td>\n",
       "    </tr>\n",
       "  </tbody>\n",
       "</table>\n",
       "</div>"
      ],
      "text/plain": [
       "       textID                                               text  \\\n",
       "0  cb774db0d1                I`d have responded, if I were going   \n",
       "1  549e992a42      Sooo SAD I will miss you here in San Diego!!!   \n",
       "2  088c60f138                          my boss is bullying me...   \n",
       "3  9642c003ef                     what interview! leave me alone   \n",
       "4  358bd9e861   Sons of ****, why couldn`t they put them on t...   \n",
       "\n",
       "                         selected_text sentiment  \n",
       "0  I`d have responded, if I were going   neutral  \n",
       "1                             Sooo SAD  negative  \n",
       "2                          bullying me  negative  \n",
       "3                       leave me alone  negative  \n",
       "4                        Sons of ****,  negative  "
      ]
     },
     "execution_count": 3,
     "metadata": {},
     "output_type": "execute_result"
    }
   ],
   "source": [
    "df = pd.read_csv('data/Tweets.csv')\n",
    "df.head()"
   ]
  },
  {
   "cell_type": "markdown",
   "id": "80a6ecdd-f00e-4c58-9ce0-8eb17ee529e2",
   "metadata": {},
   "source": [
    "## 2. Preprocessing"
   ]
  },
  {
   "cell_type": "code",
   "execution_count": 4,
   "id": "503acf5d-2c0c-4d1b-938d-734541bf59f0",
   "metadata": {},
   "outputs": [],
   "source": [
    "# Convert text to lowercase\n",
    "df['text'] = df['text'].str.lower()\n",
    "\n",
    "df['text'] = df['text'].astype(str)  # Convert 'text' column to string data type\n",
    "\n",
    "df['tokens'] = df['text'].apply(nltk.word_tokenize)  # Tokenization"
   ]
  },
  {
   "cell_type": "code",
   "execution_count": 5,
   "id": "e952346d-2719-44ce-9679-57196aab0b41",
   "metadata": {},
   "outputs": [],
   "source": [
    "# Remove stopwords\n",
    "stopwords = nltk.corpus.stopwords.words('english')\n",
    "df['tokens'] = df['tokens'].apply(lambda x: [word for word in x if word not in stopwords])"
   ]
  },
  {
   "cell_type": "markdown",
   "id": "bae9c2cb-ea8e-4c96-babb-9cff94e4e772",
   "metadata": {},
   "source": [
    "## 3. Split the data\n",
    "\n",
    "X_train: This is the training portion of the feature dataset X. It contains 80% of the data (since test_size=0.2 means 20% of the data is set aside for testing). These features will be used to train the model.\n",
    "\n",
    "X_test: This is the testing portion of the feature dataset X. It contains the remaining 20% of the data, which will be used to evaluate the model after training.\n",
    "\n",
    "y_train: This is the training portion of the target labels y. It contains 80% of the labels corresponding to the training features in X_train. These labels are what the model tries to predict.\n",
    "\n",
    "y_test: This is the testing portion of the target labels y. It contains 20% of the labels corresponding to the testing features in X_test, and it is used to evaluate the model's performance."
   ]
  },
  {
   "cell_type": "code",
   "execution_count": 6,
   "id": "4941237e-c81f-4ce9-9dfc-60d831873ab7",
   "metadata": {},
   "outputs": [],
   "source": [
    "X = df['text']\n",
    "y = df['sentiment']\n",
    "\n",
    "X_train, X_test, y_train, y_test = train_test_split(X, y, test_size=0.2, random_state=42)"
   ]
  },
  {
   "cell_type": "code",
   "execution_count": 17,
   "id": "eb86293b-e362-4fa6-8f8c-a8d870c4366e",
   "metadata": {},
   "outputs": [
    {
     "data": {
      "text/plain": [
       "11293                              doctor who has finished\n",
       "11299                                          you should.\n",
       "18204    back at school again. almost weekend. oh wait,...\n",
       "22728    my computer is so slooowww this morning.  i th...\n",
       "1231                             on my way to dazzle bar!!\n",
       "                               ...                        \n",
       "21575    star trek was pure awesome! love it!!! <3333  ...\n",
       "5390     will be going to indiana baptist sunday, pray ...\n",
       "860      is sitting thru the boring bits in titanic wai...\n",
       "15795                                      missed the play\n",
       "23654    oh i`m really tired of these migraines! #endom...\n",
       "Name: text, Length: 21984, dtype: object"
      ]
     },
     "execution_count": 17,
     "metadata": {},
     "output_type": "execute_result"
    }
   ],
   "source": [
    "X_train"
   ]
  },
  {
   "cell_type": "code",
   "execution_count": 19,
   "id": "6e9d3193-b3c8-46b3-8ada-574123140bad",
   "metadata": {},
   "outputs": [
    {
     "data": {
      "text/plain": [
       "11293     neutral\n",
       "11299     neutral\n",
       "18204     neutral\n",
       "22728     neutral\n",
       "1231      neutral\n",
       "           ...   \n",
       "21575    positive\n",
       "5390      neutral\n",
       "860       neutral\n",
       "15795    negative\n",
       "23654    negative\n",
       "Name: sentiment, Length: 21984, dtype: object"
      ]
     },
     "execution_count": 19,
     "metadata": {},
     "output_type": "execute_result"
    }
   ],
   "source": [
    "y_train"
   ]
  },
  {
   "cell_type": "code",
   "execution_count": null,
   "id": "a82af009-baad-42c3-aaf3-924c7d51d864",
   "metadata": {},
   "outputs": [],
   "source": []
  },
  {
   "cell_type": "markdown",
   "id": "288a7e26-c276-4073-833e-21942b65a9f9",
   "metadata": {},
   "source": [
    "## 4. Feature extraction\n",
    "\n",
    "Convert the textual data into numerical features that can be used by a machine learning algorithm. One common approach is to use the TF-IDF (Term Frequency-Inverse Document Frequency) vectorizer"
   ]
  },
  {
   "cell_type": "code",
   "execution_count": 8,
   "id": "3f2d5491-da4b-45e7-bab4-9f82c14b45dc",
   "metadata": {},
   "outputs": [],
   "source": [
    "vectorizer = TfidfVectorizer()\n",
    "X_train_vectors = vectorizer.fit_transform(X_train)\n",
    "X_test_vectors = vectorizer.transform(X_test)"
   ]
  },
  {
   "cell_type": "code",
   "execution_count": 23,
   "id": "3a923eaa-c41f-4830-a851-4435b7934b6e",
   "metadata": {},
   "outputs": [
    {
     "name": "stdout",
     "output_type": "stream",
     "text": [
      "feature names:  ['00' '000' '000th' ... '½you' '½z' '½ï']\n",
      "First 5 rows of X_train_vectors:  [[0. 0. 0. ... 0. 0. 0.]\n",
      " [0. 0. 0. ... 0. 0. 0.]\n",
      " [0. 0. 0. ... 0. 0. 0.]\n",
      " [0. 0. 0. ... 0. 0. 0.]\n",
      " [0. 0. 0. ... 0. 0. 0.]]\n"
     ]
    }
   ],
   "source": [
    "feature_names = vectorizer.get_feature_names_out()\n",
    "print(\"feature names: \", feature_names)\n",
    "print(\"First 5 rows of X_train_vectors: \", X_train_vectors[:5].toarray())"
   ]
  },
  {
   "cell_type": "markdown",
   "id": "b3e7eb93-cdd1-48cb-9986-d02c2a9675f5",
   "metadata": {},
   "source": [
    "##  5. Build and Train a Sentiment Analysis Model\n",
    "\n",
    "Chose a classification algorithm (SVM in this case) and use to build a model"
   ]
  },
  {
   "cell_type": "code",
   "execution_count": 24,
   "id": "f8335bcf-8c97-4410-80fb-445a57ea5e9f",
   "metadata": {},
   "outputs": [
    {
     "data": {
      "text/html": [
       "<style>#sk-container-id-1 {color: black;background-color: white;}#sk-container-id-1 pre{padding: 0;}#sk-container-id-1 div.sk-toggleable {background-color: white;}#sk-container-id-1 label.sk-toggleable__label {cursor: pointer;display: block;width: 100%;margin-bottom: 0;padding: 0.3em;box-sizing: border-box;text-align: center;}#sk-container-id-1 label.sk-toggleable__label-arrow:before {content: \"▸\";float: left;margin-right: 0.25em;color: #696969;}#sk-container-id-1 label.sk-toggleable__label-arrow:hover:before {color: black;}#sk-container-id-1 div.sk-estimator:hover label.sk-toggleable__label-arrow:before {color: black;}#sk-container-id-1 div.sk-toggleable__content {max-height: 0;max-width: 0;overflow: hidden;text-align: left;background-color: #f0f8ff;}#sk-container-id-1 div.sk-toggleable__content pre {margin: 0.2em;color: black;border-radius: 0.25em;background-color: #f0f8ff;}#sk-container-id-1 input.sk-toggleable__control:checked~div.sk-toggleable__content {max-height: 200px;max-width: 100%;overflow: auto;}#sk-container-id-1 input.sk-toggleable__control:checked~label.sk-toggleable__label-arrow:before {content: \"▾\";}#sk-container-id-1 div.sk-estimator input.sk-toggleable__control:checked~label.sk-toggleable__label {background-color: #d4ebff;}#sk-container-id-1 div.sk-label input.sk-toggleable__control:checked~label.sk-toggleable__label {background-color: #d4ebff;}#sk-container-id-1 input.sk-hidden--visually {border: 0;clip: rect(1px 1px 1px 1px);clip: rect(1px, 1px, 1px, 1px);height: 1px;margin: -1px;overflow: hidden;padding: 0;position: absolute;width: 1px;}#sk-container-id-1 div.sk-estimator {font-family: monospace;background-color: #f0f8ff;border: 1px dotted black;border-radius: 0.25em;box-sizing: border-box;margin-bottom: 0.5em;}#sk-container-id-1 div.sk-estimator:hover {background-color: #d4ebff;}#sk-container-id-1 div.sk-parallel-item::after {content: \"\";width: 100%;border-bottom: 1px solid gray;flex-grow: 1;}#sk-container-id-1 div.sk-label:hover label.sk-toggleable__label {background-color: #d4ebff;}#sk-container-id-1 div.sk-serial::before {content: \"\";position: absolute;border-left: 1px solid gray;box-sizing: border-box;top: 0;bottom: 0;left: 50%;z-index: 0;}#sk-container-id-1 div.sk-serial {display: flex;flex-direction: column;align-items: center;background-color: white;padding-right: 0.2em;padding-left: 0.2em;position: relative;}#sk-container-id-1 div.sk-item {position: relative;z-index: 1;}#sk-container-id-1 div.sk-parallel {display: flex;align-items: stretch;justify-content: center;background-color: white;position: relative;}#sk-container-id-1 div.sk-item::before, #sk-container-id-1 div.sk-parallel-item::before {content: \"\";position: absolute;border-left: 1px solid gray;box-sizing: border-box;top: 0;bottom: 0;left: 50%;z-index: -1;}#sk-container-id-1 div.sk-parallel-item {display: flex;flex-direction: column;z-index: 1;position: relative;background-color: white;}#sk-container-id-1 div.sk-parallel-item:first-child::after {align-self: flex-end;width: 50%;}#sk-container-id-1 div.sk-parallel-item:last-child::after {align-self: flex-start;width: 50%;}#sk-container-id-1 div.sk-parallel-item:only-child::after {width: 0;}#sk-container-id-1 div.sk-dashed-wrapped {border: 1px dashed gray;margin: 0 0.4em 0.5em 0.4em;box-sizing: border-box;padding-bottom: 0.4em;background-color: white;}#sk-container-id-1 div.sk-label label {font-family: monospace;font-weight: bold;display: inline-block;line-height: 1.2em;}#sk-container-id-1 div.sk-label-container {text-align: center;}#sk-container-id-1 div.sk-container {/* jupyter's `normalize.less` sets `[hidden] { display: none; }` but bootstrap.min.css set `[hidden] { display: none !important; }` so we also need the `!important` here to be able to override the default hidden behavior on the sphinx rendered scikit-learn.org. See: https://github.com/scikit-learn/scikit-learn/issues/21755 */display: inline-block !important;position: relative;}#sk-container-id-1 div.sk-text-repr-fallback {display: none;}</style><div id=\"sk-container-id-1\" class=\"sk-top-container\"><div class=\"sk-text-repr-fallback\"><pre>SVC()</pre><b>In a Jupyter environment, please rerun this cell to show the HTML representation or trust the notebook. <br />On GitHub, the HTML representation is unable to render, please try loading this page with nbviewer.org.</b></div><div class=\"sk-container\" hidden><div class=\"sk-item\"><div class=\"sk-estimator sk-toggleable\"><input class=\"sk-toggleable__control sk-hidden--visually\" id=\"sk-estimator-id-1\" type=\"checkbox\" checked><label for=\"sk-estimator-id-1\" class=\"sk-toggleable__label sk-toggleable__label-arrow\">SVC</label><div class=\"sk-toggleable__content\"><pre>SVC()</pre></div></div></div></div></div>"
      ],
      "text/plain": [
       "SVC()"
      ]
     },
     "execution_count": 24,
     "metadata": {},
     "output_type": "execute_result"
    }
   ],
   "source": [
    "model = SVC()\n",
    "model.fit(X_train_vectors, y_train)"
   ]
  },
  {
   "cell_type": "markdown",
   "id": "51aa8809-4160-4efb-9d05-cda250766c04",
   "metadata": {},
   "source": [
    "## Step 6. Evaluate the Model\n",
    "\n",
    "### Accuracy\n",
    "Accuracy is the ratio of correctly predicted instances (both true positives and true negatives) to the total number of predictions made. It is useful when the classes are balanced.\n",
    "\n",
    "Accuracy = (𝑇𝑃 + 𝑇𝑁)/(𝑇𝑃 + 𝑇𝑁 + 𝐹𝑃 + 𝐹𝑁)\n",
    "\n",
    "### Precision\n",
    "Precision is the ratio of correctly predicted positive instances to the total predicted positives. It is a good metric when the cost of false positives is high.\n",
    "\n",
    "Precision = TP/(TP+FP)\n",
    " \n",
    "### Recall (Sensitivity or True Positive Rate)\n",
    "Recall is the ratio of correctly predicted positive instances to the total actual positives. It is important when the cost of false negatives is high (e.g., in medical diagnoses).\n",
    "\n",
    "Recall = TP/(TP+FN)​\n",
    " \n",
    "### F1-Score\n",
    "The F1-score is the harmonic mean of precision and recall. It provides a balance between the two metrics and is useful when you want to maintain both precision and recall in a model.\n",
    "\n",
    "F1-Score = 2 × ((Precision×Recall)/(Precision+Recall))\n",
    "\n",
    "### Specificity (True Negative Rate)\n",
    "\n",
    "Specificity is the ratio of correctly predicted negative instances to the total actual negatives. It is useful when it is important to correctly identify negatives.\n",
    "\n",
    "Specificity = TN/(TN+FP)\n",
    "​ \n",
    "### ROC Curve (Receiver Operating Characteristic Curve)\n",
    "The ROC curve is a plot of the true positive rate (recall) against the false positive rate (FPR) at different classification thresholds. It shows the performance of a classifier across all threshold values.\n",
    "\n",
    "False Positive Rate (FPR):\n",
    "\n",
    "FPR = FP/(FP+TN)\n",
    "​ \n",
    "### AUC (Area Under the ROC Curve)\n",
    "The AUC measures the area under the ROC curve. A model with an AUC of 1 is a perfect classifier, while a model with an AUC of 0.5 is as good as random guessing. It is a good measure of a model's ability to distinguish between classes."
   ]
  },
  {
   "cell_type": "code",
   "execution_count": 25,
   "id": "0cf312a2-1dfb-43e4-b71e-3fd035493180",
   "metadata": {},
   "outputs": [
    {
     "name": "stdout",
     "output_type": "stream",
     "text": [
      "Classification Report:\n",
      "              precision    recall  f1-score   support\n",
      "\n",
      "    negative       0.77      0.57      0.66      1562\n",
      "     neutral       0.62      0.81      0.70      2230\n",
      "    positive       0.80      0.68      0.73      1705\n",
      "\n",
      "    accuracy                           0.70      5497\n",
      "   macro avg       0.73      0.68      0.70      5497\n",
      "weighted avg       0.72      0.70      0.70      5497\n",
      "\n",
      "Accuracy Score: 0.698744769874477\n"
     ]
    }
   ],
   "source": [
    "y_pred = model.predict(X_test_vectors)\n",
    "\n",
    "print(\"Classification Report:\")\n",
    "print(classification_report(y_test, y_pred))\n",
    "\n",
    "print(\"Accuracy Score:\", accuracy_score(y_test, y_pred))"
   ]
  },
  {
   "cell_type": "code",
   "execution_count": null,
   "id": "b3ec4b32-8105-4ee0-a052-53d923a20c2d",
   "metadata": {},
   "outputs": [],
   "source": []
  },
  {
   "cell_type": "code",
   "execution_count": null,
   "id": "44c38eed-b693-483c-af7a-a27725177874",
   "metadata": {},
   "outputs": [],
   "source": []
  },
  {
   "cell_type": "code",
   "execution_count": null,
   "id": "4c72acaa-6ab5-4c53-bdb6-a026ffed4475",
   "metadata": {},
   "outputs": [],
   "source": []
  },
  {
   "cell_type": "code",
   "execution_count": null,
   "id": "c6cc4df1-2853-42f0-849d-f6f73981543a",
   "metadata": {},
   "outputs": [],
   "source": []
  },
  {
   "cell_type": "code",
   "execution_count": null,
   "id": "aeed370d-ac9b-4184-bf42-4094505b8c0c",
   "metadata": {},
   "outputs": [],
   "source": []
  },
  {
   "cell_type": "code",
   "execution_count": null,
   "id": "e674a2bd-6cf0-4ff2-acd9-4a7de4bc1586",
   "metadata": {},
   "outputs": [],
   "source": []
  },
  {
   "cell_type": "code",
   "execution_count": null,
   "id": "029d3427-9dc1-46c5-9831-985e57d87dd0",
   "metadata": {},
   "outputs": [],
   "source": []
  },
  {
   "cell_type": "code",
   "execution_count": null,
   "id": "fe6db5a1-a14d-47a1-b8dc-d3082a9aa76e",
   "metadata": {},
   "outputs": [],
   "source": []
  },
  {
   "cell_type": "code",
   "execution_count": null,
   "id": "ac69f61d-5264-4459-822d-d6d631a1a6f6",
   "metadata": {},
   "outputs": [],
   "source": []
  },
  {
   "cell_type": "code",
   "execution_count": null,
   "id": "271bdc79-0275-495c-af06-fa9c08681501",
   "metadata": {},
   "outputs": [],
   "source": []
  },
  {
   "cell_type": "code",
   "execution_count": null,
   "id": "5feb35c1-f107-4f8c-9149-4ad29ee43884",
   "metadata": {},
   "outputs": [],
   "source": []
  },
  {
   "cell_type": "code",
   "execution_count": null,
   "id": "cf7dcd17-3eb9-41c7-b247-5804abd572d8",
   "metadata": {},
   "outputs": [],
   "source": []
  }
 ],
 "metadata": {
  "kernelspec": {
   "display_name": "Python 3 (ipykernel)",
   "language": "python",
   "name": "python3"
  },
  "language_info": {
   "codemirror_mode": {
    "name": "ipython",
    "version": 3
   },
   "file_extension": ".py",
   "mimetype": "text/x-python",
   "name": "python",
   "nbconvert_exporter": "python",
   "pygments_lexer": "ipython3",
   "version": "3.11.5"
  }
 },
 "nbformat": 4,
 "nbformat_minor": 5
}
